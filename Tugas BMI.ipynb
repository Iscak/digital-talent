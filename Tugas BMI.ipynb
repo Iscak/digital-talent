{
 "cells": [
  {
   "cell_type": "code",
   "execution_count": 28,
   "metadata": {},
   "outputs": [
    {
     "name": "stdout",
     "output_type": "stream",
     "text": [
      "~Program Kategori BMI (Body Mask Index)~\n",
      "\n",
      "Berat Badan : 47 KG\n",
      "Tingi Badan : 160 CM\n",
      "Nilai BMI   : 18.4\n",
      "Kategori    : Underweight \n",
      "\n",
      "~Selamat...Terimaksih atas kunjungannya~\n",
      "\t Silahkan menghitung kembali\n"
     ]
    }
   ],
   "source": [
    "#kode\n",
    "berat_badan = 47\n",
    "tinggi_badan = 160\n",
    "\n",
    "#perhitungan\n",
    "tinggi_meter = tinggi_badan/100\n",
    "BMI = berat_badan/(tinggi_meter**2)\n",
    "\n",
    "#kategorisasi BMI\n",
    "if BMI<15:\n",
    "    kategori= \"Very severely underweight\"\n",
    "elif BMI>=15 and BMI<16:\n",
    "    kategori= \"Severely underweight\"\n",
    "elif BMI>=16 and BMI<18.5:\n",
    "    kategori= \"Underweight\"\n",
    "elif BMI>=18.5 and BMI<25:\n",
    "    kategori= \"Normal(healty weight)\"\n",
    "elif BMI>=25 and BMI<30:\n",
    "    kategori= \"Overweight)\"\n",
    "elif BMI>=30 and BMI<35:\n",
    "    kategori= \"Moderately obese\"\n",
    "elif BMI>=35 and BMI<40:\n",
    "    kategori= \"Severely obese\"\n",
    "else:\n",
    "    kategori= \"Very severely obese\"\n",
    "    \n",
    "#Finalisasi\n",
    "print(\"~Program Kategori BMI (Body Mass Index)~\\n\")\n",
    "print(\"Berat Badan :\",berat_badan,\"KG\")\n",
    "print(\"Tingi Badan :\",tinggi_badan,\"CM\")\n",
    "print(\"Nilai BMI   : %.1f\"%BMI)\n",
    "print(\"Kategori    :\",kategori,\"\\n\")\n",
    "print(\"~Selamat...Terimaksih atas kunjungannya~\")\n",
    "print(\"\\t Silahkan menghitung kembali\")"
   ]
  },
  {
   "cell_type": "code",
   "execution_count": null,
   "metadata": {},
   "outputs": [],
   "source": []
  }
 ],
 "metadata": {
  "kernelspec": {
   "display_name": "Python 3",
   "language": "python",
   "name": "python3"
  },
  "language_info": {
   "codemirror_mode": {
    "name": "ipython",
    "version": 3
   },
   "file_extension": ".py",
   "mimetype": "text/x-python",
   "name": "python",
   "nbconvert_exporter": "python",
   "pygments_lexer": "ipython3",
   "version": "3.7.0"
  }
 },
 "nbformat": 4,
 "nbformat_minor": 2
}
