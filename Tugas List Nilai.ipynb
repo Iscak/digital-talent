{
 "cells": [
  {
   "cell_type": "code",
   "execution_count": 4,
   "metadata": {},
   "outputs": [
    {
     "name": "stdout",
     "output_type": "stream",
     "text": [
      "[62, 32, 27, 64, 60, 41, 21, 92, 55, 72, 95, 59, 97, 29, 69, 69, 91, 64, 82, 56, 56, 32, 88, 83, 69, 91, 36, 97, 17, 75, 20, 57, 4, 18, 93, 32, 78, 22, 26, 47, 6, 70, 89, 16, 16, 91, 89, 97, 3, 9, 77, 52, 53, 90, 83, 34, 7, 14, 25, 51, 67, 99, 27, 70, 15, 41, 53, 52, 14, 76, 72, 58, 5, 51, 66, 70, 99, 62, 87, 93, 97, 76, 73, 33, 59, 1, 65, 45, 19, 79, 26, 90, 52, 17, 1, 42, 78, 71, 54, 64, 62, 39, 36, 23, 34, 2, 94, 95, 33, 96, 61, 44, 58, 82, 6, 42, 63, 83, 36, 63, 40, 53, 31, 15, 16, 35, 85, 91, 20, 4, 15, 99, 46, 29, 43, 37, 57, 24, 4, 5, 41, 73, 15, 95, 40, 57, 1, 13, 65, 61, 20, 69, 86, 69, 51, 12, 81, 87, 26, 60, 78, 75, 29, 48, 28, 49, 61, 41, 77, 48, 92, 26, 34, 31, 96, 98, 74, 68, 96, 43, 29, 10, 36, 68, 48, 63, 69, 40, 1, 48, 64, 16, 78, 37, 7, 3, 43, 64, 49, 72, 68, 72, 96, 76, 10, 37, 96, 43, 43, 14, 15, 27, 59, 62, 13, 25, 52, 64, 47, 3, 10, 17, 74, 34, 20, 52, 49, 39, 48, 49, 40, 76, 56, 88, 80, 92, 17, 76, 65, 81, 44, 25, 70, 77, 1, 77, 15, 6, 37, 18]\n"
     ]
    }
   ],
   "source": [
    "# impor data\n",
    "import random\n",
    "nilaiku = []\n",
    "for i in range(250):\n",
    "    nilaiku.append(random.randrange(1,100,1))\n",
    "print(nilaiku)"
   ]
  },
  {
   "cell_type": "code",
   "execution_count": 13,
   "metadata": {},
   "outputs": [
    {
     "name": "stdout",
     "output_type": "stream",
     "text": [
      "[27, 41, 21, 55, 95, 59, 97, 29, 69, 69, 91, 83, 69, 91, 97, 17, 75, 57, 93, 47, 89, 91, 89, 97, 3, 9, 77, 53, 83, 7, 25, 51, 67, 99, 27, 15, 41, 53, 5, 51, 99, 87, 93, 97, 73, 33, 59, 1, 65, 45, 19, 79, 17, 1, 71, 39, 23, 95, 33, 61, 63, 83, 63, 53, 31, 15, 35, 85, 91, 15, 99, 29, 43, 37, 57, 5, 41, 73, 15, 95, 57, 1, 13, 65, 61, 69, 69, 51, 81, 87, 75, 29, 49, 61, 41, 77, 31, 43, 29, 63, 69, 1, 37, 7, 3, 43, 49, 37, 43, 43, 15, 27, 59, 13, 25, 47, 3, 17, 49, 39, 49, 17, 65, 81, 25, 77, 1, 77, 15, 37]\n"
     ]
    }
   ],
   "source": [
    "# angka ganjil\n",
    "angkaGanjil = []\n",
    "for n in nilaiku:\n",
    "    if n%2==1:\n",
    "        angkaGanjil.append(n)\n",
    "print(angkaGanjil)"
   ]
  },
  {
   "cell_type": "code",
   "execution_count": 27,
   "metadata": {},
   "outputs": [
    {
     "name": "stdout",
     "output_type": "stream",
     "text": [
      "[92, 72, 95, 97, 91, 82, 88, 83, 91, 97, 75, 93, 78, 89, 91, 89, 97, 77, 90, 83, 99, 76, 72, 99, 87, 93, 97, 76, 73, 79, 90, 78, 71, 94, 95, 96, 82, 83, 85, 91, 99, 73, 95, 86, 81, 87, 78, 75, 77, 92, 96, 98, 74, 96, 78, 72, 72, 96, 76, 96, 74, 76, 88, 80, 92, 76, 81, 77, 77]\n",
      "Jadi total nilai yang lebih dari 70 sebanyak 69\n"
     ]
    }
   ],
   "source": [
    "# banyak nilai yang lebih dari 70\n",
    "Nilai_70 = []\n",
    "for nilai in nilaiku:\n",
    "    if nilai>70:\n",
    "        Nilai_70.append(nilai)\n",
    "print(Nilai_70)\n",
    "jumlah = len(Nilai_70)\n",
    "print(\"Jadi total nilai yang lebih dari 70 sebanyak\", jumlah)"
   ]
  },
  {
   "cell_type": "code",
   "execution_count": 25,
   "metadata": {},
   "outputs": [
    {
     "name": "stdout",
     "output_type": "stream",
     "text": [
      "nilai standar deviasinya adalah 43.08855996665472\n"
     ]
    }
   ],
   "source": [
    "# standar deviasi\n",
    "total = 0\n",
    "for i in nilaiku:\n",
    "    total= total+n\n",
    "rata_rata= total/len(nilaiku)\n",
    "\n",
    "u = 0\n",
    "for x in nilaiku:\n",
    "    x=(x-rata_rata)**2\n",
    "    u= u+x\n",
    "\n",
    "atas= u/len(nilaiku)-1    \n",
    "standar_deviasi= (atas**0.5)\n",
    "print(\"nilai standar deviasinya adalah\",standar_deviasi)\n",
    "        "
   ]
  },
  {
   "cell_type": "code",
   "execution_count": 26,
   "metadata": {},
   "outputs": [
    {
     "name": "stdout",
     "output_type": "stream",
     "text": [
      "nilai maksimumnya adalah 99\n",
      "nilai minimumnya adalah 1\n"
     ]
    }
   ],
   "source": [
    "# nilai maksimum dan minimum\n",
    "max = 0\n",
    "min = 1000\n",
    "for k in nilaiku:\n",
    "    if k > max:\n",
    "        max = k\n",
    "    if k < min:\n",
    "        min = k\n",
    "    \n",
    "print(\"nilai maksimumnya adalah\",max)\n",
    "print(\"nilai minimumnya adalah\",min)"
   ]
  },
  {
   "cell_type": "code",
   "execution_count": 29,
   "metadata": {},
   "outputs": [
    {
     "name": "stdout",
     "output_type": "stream",
     "text": [
      "nilai moodusnya adalah 62\n"
     ]
    }
   ],
   "source": [
    "# modus\n",
    "modus = nilaiku[0]\n",
    "jumlah = nilaiku.count(modus)\n",
    "for h in nilaiku:\n",
    "    banyak_nilai = nilaiku.count(n)\n",
    "    if banyak_nilai> jumlah:\n",
    "        modus = n\n",
    "        banyak_nilai = jumlah\n",
    "print(\"nilai moodusnya adalah\",modus)"
   ]
  },
  {
   "cell_type": "code",
   "execution_count": null,
   "metadata": {},
   "outputs": [],
   "source": []
  }
 ],
 "metadata": {
  "kernelspec": {
   "display_name": "Python 3",
   "language": "python",
   "name": "python3"
  },
  "language_info": {
   "codemirror_mode": {
    "name": "ipython",
    "version": 3
   },
   "file_extension": ".py",
   "mimetype": "text/x-python",
   "name": "python",
   "nbconvert_exporter": "python",
   "pygments_lexer": "ipython3",
   "version": "3.7.0"
  }
 },
 "nbformat": 4,
 "nbformat_minor": 2
}
